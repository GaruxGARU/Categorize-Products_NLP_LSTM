{
 "cells": [
  {
   "cell_type": "markdown",
   "metadata": {},
   "source": [
    "# CATEGORIES DATA with NLP AND LSTM"
   ]
  },
  {
   "cell_type": "code",
   "execution_count": 1,
   "metadata": {},
   "outputs": [],
   "source": [
    "import pandas as pd\n",
    "import numpy as np\n",
    "import tensorflow as tf\n",
    "import matplotlib.pyplot as plt\n",
    "\n",
    "import sklearn\n",
    "\n",
    "import os,re,datetime\n"
   ]
  },
  {
   "cell_type": "markdown",
   "metadata": {},
   "source": [
    "## LOAD DATA"
   ]
  },
  {
   "cell_type": "code",
   "execution_count": 2,
   "metadata": {},
   "outputs": [],
   "source": [
    "PATH=os.getcwd()\n",
    "df=pd.read_csv(os.path.join(PATH,'dataset','ecommerceDataset.csv'),names=['categories','text'])"
   ]
  },
  {
   "cell_type": "markdown",
   "metadata": {},
   "source": [
    "## INVESTIGATION"
   ]
  },
  {
   "cell_type": "code",
   "execution_count": 3,
   "metadata": {},
   "outputs": [
    {
     "data": {
      "text/html": [
       "<div>\n",
       "<style scoped>\n",
       "    .dataframe tbody tr th:only-of-type {\n",
       "        vertical-align: middle;\n",
       "    }\n",
       "\n",
       "    .dataframe tbody tr th {\n",
       "        vertical-align: top;\n",
       "    }\n",
       "\n",
       "    .dataframe thead th {\n",
       "        text-align: right;\n",
       "    }\n",
       "</style>\n",
       "<table border=\"1\" class=\"dataframe\">\n",
       "  <thead>\n",
       "    <tr style=\"text-align: right;\">\n",
       "      <th></th>\n",
       "      <th>categories</th>\n",
       "      <th>text</th>\n",
       "    </tr>\n",
       "  </thead>\n",
       "  <tbody>\n",
       "    <tr>\n",
       "      <th>0</th>\n",
       "      <td>Household</td>\n",
       "      <td>Paper Plane Design Framed Wall Hanging Motivat...</td>\n",
       "    </tr>\n",
       "    <tr>\n",
       "      <th>1</th>\n",
       "      <td>Household</td>\n",
       "      <td>SAF 'Floral' Framed Painting (Wood, 30 inch x ...</td>\n",
       "    </tr>\n",
       "    <tr>\n",
       "      <th>2</th>\n",
       "      <td>Household</td>\n",
       "      <td>SAF 'UV Textured Modern Art Print Framed' Pain...</td>\n",
       "    </tr>\n",
       "    <tr>\n",
       "      <th>3</th>\n",
       "      <td>Household</td>\n",
       "      <td>SAF Flower Print Framed Painting (Synthetic, 1...</td>\n",
       "    </tr>\n",
       "  </tbody>\n",
       "</table>\n",
       "</div>"
      ],
      "text/plain": [
       "  categories                                               text\n",
       "0  Household  Paper Plane Design Framed Wall Hanging Motivat...\n",
       "1  Household  SAF 'Floral' Framed Painting (Wood, 30 inch x ...\n",
       "2  Household  SAF 'UV Textured Modern Art Print Framed' Pain...\n",
       "3  Household  SAF Flower Print Framed Painting (Synthetic, 1..."
      ]
     },
     "execution_count": 3,
     "metadata": {},
     "output_type": "execute_result"
    }
   ],
   "source": [
    "df.head(4)"
   ]
  },
  {
   "cell_type": "code",
   "execution_count": 4,
   "metadata": {},
   "outputs": [
    {
     "name": "stdout",
     "output_type": "stream",
     "text": [
      "<class 'pandas.core.frame.DataFrame'>\n",
      "RangeIndex: 50425 entries, 0 to 50424\n",
      "Data columns (total 2 columns):\n",
      " #   Column      Non-Null Count  Dtype \n",
      "---  ------      --------------  ----- \n",
      " 0   categories  50425 non-null  object\n",
      " 1   text        50424 non-null  object\n",
      "dtypes: object(2)\n",
      "memory usage: 788.0+ KB\n"
     ]
    }
   ],
   "source": [
    "df.info()"
   ]
  },
  {
   "cell_type": "code",
   "execution_count": 5,
   "metadata": {},
   "outputs": [
    {
     "data": {
      "text/html": [
       "<div>\n",
       "<style scoped>\n",
       "    .dataframe tbody tr th:only-of-type {\n",
       "        vertical-align: middle;\n",
       "    }\n",
       "\n",
       "    .dataframe tbody tr th {\n",
       "        vertical-align: top;\n",
       "    }\n",
       "\n",
       "    .dataframe thead th {\n",
       "        text-align: right;\n",
       "    }\n",
       "</style>\n",
       "<table border=\"1\" class=\"dataframe\">\n",
       "  <thead>\n",
       "    <tr style=\"text-align: right;\">\n",
       "      <th></th>\n",
       "      <th>count</th>\n",
       "      <th>unique</th>\n",
       "      <th>top</th>\n",
       "      <th>freq</th>\n",
       "    </tr>\n",
       "  </thead>\n",
       "  <tbody>\n",
       "    <tr>\n",
       "      <th>categories</th>\n",
       "      <td>50425</td>\n",
       "      <td>4</td>\n",
       "      <td>Household</td>\n",
       "      <td>19313</td>\n",
       "    </tr>\n",
       "    <tr>\n",
       "      <th>text</th>\n",
       "      <td>50424</td>\n",
       "      <td>27802</td>\n",
       "      <td>Think &amp; Grow Rich About the Author NAPOLEON HI...</td>\n",
       "      <td>30</td>\n",
       "    </tr>\n",
       "  </tbody>\n",
       "</table>\n",
       "</div>"
      ],
      "text/plain": [
       "            count unique                                                top  \\\n",
       "categories  50425      4                                          Household   \n",
       "text        50424  27802  Think & Grow Rich About the Author NAPOLEON HI...   \n",
       "\n",
       "             freq  \n",
       "categories  19313  \n",
       "text           30  "
      ]
     },
     "execution_count": 5,
     "metadata": {},
     "output_type": "execute_result"
    }
   ],
   "source": [
    "df.describe().T"
   ]
  },
  {
   "cell_type": "markdown",
   "metadata": {},
   "source": [
    "## DATA CLEANING"
   ]
  },
  {
   "cell_type": "markdown",
   "metadata": {},
   "source": [
    "### handling null value"
   ]
  },
  {
   "cell_type": "code",
   "execution_count": 6,
   "metadata": {},
   "outputs": [
    {
     "name": "stdout",
     "output_type": "stream",
     "text": [
      "categories    0\n",
      "text          1\n",
      "dtype: int64\n",
      "                   categories text\n",
      "39330  Clothing & Accessories  NaN\n"
     ]
    }
   ],
   "source": [
    "print(df.isna().sum()) # check how many null\n",
    "\n",
    "print(df[df['text'].isna()]) # check the null"
   ]
  },
  {
   "cell_type": "code",
   "execution_count": 7,
   "metadata": {},
   "outputs": [],
   "source": [
    "df.dropna(inplace=True)"
   ]
  },
  {
   "cell_type": "markdown",
   "metadata": {},
   "source": [
    "### handling duplicate (maybe OPTIONAL)"
   ]
  },
  {
   "cell_type": "code",
   "execution_count": 8,
   "metadata": {},
   "outputs": [
    {
     "data": {
      "text/html": [
       "<div>\n",
       "<style scoped>\n",
       "    .dataframe tbody tr th:only-of-type {\n",
       "        vertical-align: middle;\n",
       "    }\n",
       "\n",
       "    .dataframe tbody tr th {\n",
       "        vertical-align: top;\n",
       "    }\n",
       "\n",
       "    .dataframe thead th {\n",
       "        text-align: right;\n",
       "    }\n",
       "</style>\n",
       "<table border=\"1\" class=\"dataframe\">\n",
       "  <thead>\n",
       "    <tr style=\"text-align: right;\">\n",
       "      <th></th>\n",
       "      <th>categories</th>\n",
       "      <th>text</th>\n",
       "    </tr>\n",
       "  </thead>\n",
       "  <tbody>\n",
       "    <tr>\n",
       "      <th>7</th>\n",
       "      <td>Household</td>\n",
       "      <td>Pitaara Box Romantic Venice Canvas Painting 6m...</td>\n",
       "    </tr>\n",
       "    <tr>\n",
       "      <th>11</th>\n",
       "      <td>Household</td>\n",
       "      <td>Paper Plane Design Starry Night Vangoh Wall Ar...</td>\n",
       "    </tr>\n",
       "    <tr>\n",
       "      <th>12</th>\n",
       "      <td>Household</td>\n",
       "      <td>Pitaara Box Romantic Venice Canvas Painting 6m...</td>\n",
       "    </tr>\n",
       "    <tr>\n",
       "      <th>16</th>\n",
       "      <td>Household</td>\n",
       "      <td>SAF Flower Print Framed Painting (Synthetic, 1...</td>\n",
       "    </tr>\n",
       "    <tr>\n",
       "      <th>20</th>\n",
       "      <td>Household</td>\n",
       "      <td>SAF 'UV Textured Modern Art Print Framed' Pain...</td>\n",
       "    </tr>\n",
       "    <tr>\n",
       "      <th>...</th>\n",
       "      <td>...</td>\n",
       "      <td>...</td>\n",
       "    </tr>\n",
       "    <tr>\n",
       "      <th>50420</th>\n",
       "      <td>Electronics</td>\n",
       "      <td>Strontium MicroSD Class 10 8GB Memory Card (Bl...</td>\n",
       "    </tr>\n",
       "    <tr>\n",
       "      <th>50421</th>\n",
       "      <td>Electronics</td>\n",
       "      <td>CrossBeats Wave Waterproof Bluetooth Wireless ...</td>\n",
       "    </tr>\n",
       "    <tr>\n",
       "      <th>50422</th>\n",
       "      <td>Electronics</td>\n",
       "      <td>Karbonn Titanium Wind W4 (White) Karbonn Titan...</td>\n",
       "    </tr>\n",
       "    <tr>\n",
       "      <th>50423</th>\n",
       "      <td>Electronics</td>\n",
       "      <td>Samsung Guru FM Plus (SM-B110E/D, Black) Colou...</td>\n",
       "    </tr>\n",
       "    <tr>\n",
       "      <th>50424</th>\n",
       "      <td>Electronics</td>\n",
       "      <td>Micromax Canvas Win W121 (White)</td>\n",
       "    </tr>\n",
       "  </tbody>\n",
       "</table>\n",
       "<p>22622 rows × 2 columns</p>\n",
       "</div>"
      ],
      "text/plain": [
       "        categories                                               text\n",
       "7        Household  Pitaara Box Romantic Venice Canvas Painting 6m...\n",
       "11       Household  Paper Plane Design Starry Night Vangoh Wall Ar...\n",
       "12       Household  Pitaara Box Romantic Venice Canvas Painting 6m...\n",
       "16       Household  SAF Flower Print Framed Painting (Synthetic, 1...\n",
       "20       Household  SAF 'UV Textured Modern Art Print Framed' Pain...\n",
       "...            ...                                                ...\n",
       "50420  Electronics  Strontium MicroSD Class 10 8GB Memory Card (Bl...\n",
       "50421  Electronics  CrossBeats Wave Waterproof Bluetooth Wireless ...\n",
       "50422  Electronics  Karbonn Titanium Wind W4 (White) Karbonn Titan...\n",
       "50423  Electronics  Samsung Guru FM Plus (SM-B110E/D, Black) Colou...\n",
       "50424  Electronics                   Micromax Canvas Win W121 (White)\n",
       "\n",
       "[22622 rows x 2 columns]"
      ]
     },
     "execution_count": 8,
     "metadata": {},
     "output_type": "execute_result"
    }
   ],
   "source": [
    "df[df.duplicated()] #too much to remove \n"
   ]
  },
  {
   "cell_type": "code",
   "execution_count": 9,
   "metadata": {},
   "outputs": [
    {
     "name": "stdout",
     "output_type": "stream",
     "text": [
      "categories              text                                                                                                                                                                                                                                                                                                                                                                                                                                                                                                                                                                                                                                                                                                                                                                                                                                                                                                                                                                                                                                                                                                                                                                                                                                                                                                                                                                                                                                                                                                                                                                                                                                                                                                                                                                                                                                                                                                                                                                                                                                                                                                                                                                                                                                                                                                                                                                                                                                                                                                                                                                                                                                                                                                                                                                                                                                                                                                                                                                                                                                                                                                                                                \n",
      "Books                   Think & Grow Rich About the Author NAPOLEON HILL, born in Pound, Southwest Virginia in 1883, was a very successful American author in the area of the new thought movement—one of the earliest producers of the modern genre of personal-success literature. He is widely considered to be one of the great writers on success. The turning point in Hill’s life occurred in the year 1908 when he interviewed the industrialist Andrew Carnegie—one of the most powerful men in the world at that time, as part of an assignment—an interview which ultimately led to the publication of Think and Grow Rich, one of his best-selling books of all time. the book examines the power of personal beliefs and the role they play in personal success. Hill, who had even served as the advisor to President Franklin D. Roosevelt from 1933-36, passed away at the age of 87.                                                                                                                                                                                                                                                                                                                                                                                                                                                                                                                                                                                                                                                                                                                                                                                                                                                                                                                                                                                                                                                                                                                                                                                                                                                                                                                                                                                                                                                                                                                                                                                                                                                                                                                                                                                                                                                                                                                                                                                                                                                                                                                                                                                                                                                                           29\n",
      "                        The Power of Your Subconscious Mind: Unlock Your Master Key to Success About the Author Joseph Murphy was a Divine Science minister and author. Murphy was born in Ireland, the son of a private boy's school headmaster and raised a Roman Catholic. He studied for the priesthood and joined the Jesuits. In his twenties an experience with healing prayer led him to leave the Jesuits and move to the United States. Murphy has given lectures and written books for audiences all over the world. In his lectures he points out how real people can radically improve their lives by applying specific aspects of his concepts.                                                                                                                                                                                                                                                                                                                                                                                                                                                                                                                                                                                                                                                                                                                                                                                                                                                                                                                                                                                                                                                                                                                                                                                                                                                                                                                                                                                                                                                                                                                                                                                                                                                                                                                                                                                                                                                                                                                                                                                                                                                                                                                                                                                                                                                                                                                                                                                                                                                                                                                   28\n",
      "Electronics             HP 680 Original Ink Advantage Cartridge (Black) Colour:Black   Make the most of every memory when you use Original HP Ink cartridges for your photos as every print is developed with quality in mind. Relive great experiences from fade-resistent prints that last a lifetime when using Original HP Ink. Capture more moments with greater page yield and cost efficiencies when you print with Original HP Ink XL cartridges. Keep cartridges out of landfill by using HP's free recycling service with Cartridges 4 Planet Ark collection bins in most Retail stores.                                                                                                                                                                                                                                                                                                                                                                                                                                                                                                                                                                                                                                                                                                                                                                                                                                                                                                                                                                                                                                                                                                                                                                                                                                                                                                                                                                                                                                                                                                                                                                                                                                                                                                                                                                                                                                                                                                                                                                                                                                                                                                                                                                                                                                                                                                                                                                                                                                                                                                                                                                              25\n",
      "Clothing & Accessories  Diverse Men's Formal Shirt Diverse is a western wear value brand for men. Our range consists of basic and updated basic apparel across both formal and casual wear. We offer the right blend of quality, style and value aimed to delight our customers.                                                                                                                                                                                                                                                                                                                                                                                                                                                                                                                                                                                                                                                                                                                                                                                                                                                                                                                                                                                                                                                                                                                                                                                                                                                                                                                                                                                                                                                                                                                                                                                                                                                                                                                                                                                                                                                                                                                                                                                                                                                                                                                                                                                                                                                                                                                                                                                                                                                                                                                                                                                                                                                                                                                                                                                                                                                                                                22\n",
      "Electronics             Cubetek 2 in 1 Bluetooth Transmitter & Receiver Adapter V4.1, with Digital Optical /TOSLINK / SPDIF, 3.5mm Aux Connect, Model: CB-BTI-029 CUBETEK 2 in 1 Bluetooth Transmitter and Receiver with Bluetoth V4.1 Is a portable handy device, allows you to wirelessly stream your favourite movies, music, games, or other media from non-Bluetooth sources straight to Bluetooth headphones, or speakers. It also allows traditional audio devices like home and car stereos to receive music from your mobile or tablets.Product Feature: 1. 2-In-1 Bluetooth Adapter, One-button switch to shift between transmitter(TX) and receiver(RX) mode easily.2. This transmitter allows pairing up to 2 devices( bluetooth headset/speaker), which means you can watch TV or listen to music with others.3. Compact, lightweight and durable. Take it with you and enjoy music anytime/anywhere for up to 14 hours.Fblue Can work while charging. Micro charging port.4. Easy to Connect, Auto pairing makes your life wire-free, hassle-free 5. Multi-point and dual-streaming features: Using dual-streaming, you can send audio signals to two audio output devices simultaneously. When in receiver mode, the adapter can receive signals from two wireless audio sources with the multi-point feature. Thus, you can swiftly and conveniently swap between music libraries on both devices.Specifications: version: CSR BC8670 Bluetooth 4.1, Class Transmission range: 10 meters (up to 33 ft)Working time:TX Mode: Up to 14 hoursRX Mode: Up to 14 hoursBattery Capacity: 280 mAhCharging time: 2 hours Standby time : 250 hoursSize: 49*13mmWeight: 21gms Bluetooth Profile: A2DP, APT-X LL(TX), APT-X(TX), SBC(TX), SBC(RX) Package Includes:1 x Audio Adapter1 x Digital Optical Toslink Cable1 x 3.5Mm Audio Cable1 x Micro Usb Charging Cable1 x 3.5Mm Female to 2 RCA Male Cable1 x user Manual.                                                                                                                                                                                                                                                                                                                                                                                                                                                                                                                                                                                                                                                                                                                                                                                                                                                                                                                                                                                                                                                                                                                                                                                                                                                 21\n",
      "                                                                                                                                                                                                                                                                                                                                                                                                                                                                                                                                                                                                                                                                                                                                                                                                                                                                                                                                                                                                                                                                                                                                                                                                                                                                                                                                                                                                                                                                                                                                                                                                                                                                                                                                                                                                                                                                                                                                                                                                                                                                                                                                                                                                                                                                                                                                                                                                                                                                                                                                                                                                                                                                                                                                                                                                                                                                                                                                                                                                                                                                                                                                                                                ..\n",
      "                        Leaf Sport Wireless Bluetooth Earphone (Black)                                                                                                                                                                                                                                                                                                                                                                                                                                                                                                                                                                                                                                                                                                                                                                                                                                                                                                                                                                                                                                                                                                                                                                                                                                                                                                                                                                                                                                                                                                                                                                                                                                                                                                                                                                                                                                                                                                                                                                                                                                                                                                                                                                                                                                                                                                                                                                                                                                                                                                                                                                                                                                                                                                                                                                                                                                                                                                                                                                                                                                                                                                           1\n",
      "                        Lenovo 15.6\" Laptop Everyday Backpack (Blue) Everyday work or play laptop bag from Lenovo. Weighs about 700 gms and can easily accommodate your 15.6 inch laptop. Apart from simply carrying your stuff, to can flaunt it too with its trendy looks. The product gets added strength with the polyester material it is made of.                                                                                                                                                                                                                                                                                                                                                                                                                                                                                                                                                                                                                                                                                                                                                                                                                                                                                                                                                                                                                                                                                                                                                                                                                                                                                                                                                                                                                                                                                                                                                                                                                                                                                                                                                                                                                                                                                                                                                                                                                                                                                                                                                                                                                                                                                                                                                                                                                                                                                                                                                                                                                                                                                                                                                                                                                          1\n",
      "Books                   Fundamentals of Financial Management About the Author Dr. Eugene F. Brigham is Graduate Research Professor Emeritus at the University of Florida, where he has taught since 1971. Dr. Brigham received his M.B.A. and Ph.D. from the University of California-Berkeley and his undergraduate degree from the University of North Carolina. Prior to joining the University of Florida, Dr. Brigham held teaching positions at the University of Connecticut, the University of Wisconsin and the University of California-Los Angeles. Dr. Brigham has served as president of the Financial Management Association and has written many journal articles on the cost of capital, capital structure and other aspects of financial management. He has authored or co-authored ten textbooks on managerial finance and managerial economics that are used at more than 1,000 universities in the United States and have been translated into 11 languages worldwide. He has testified as an expert witness in numerous electric, gas and telephone rate cases at both federal and state levels. He has served as a consultant to many corporations and government agencies, including the Federal Reserve Board, the Federal Home Loan Bank Board, the U.S. Office of Telecommunications Policy and the RAND Corporation. Dr. Brigham continues to teach, consult and complete research in addition to his academic writing. He spends his spare time on the golf course, enjoying time with his family and dogs and tackling outdoor adventure activities, such as biking through Alaska. Joel F. Houston is the John B. Hall Professor of Finance at the University of Florida. He received his M.A. and Ph.D. from the Wharton School at the University of Pennsylvania and his undergraduate degree from Franklin and Marshall College. Prior to his appointment at the University of Florida, Dr. Houston was an Economist at the Federal Reserve Bank of Philadelphia. Joel's research is primarily in the areas of corporate finance and financial institutions and his work has been published in a number of top journals including THE JOURNAL OF FINANCE, JOURNAL OF FINANCIAL ECONOMICS, JOURNAL OF BUSINESS, JOURNAL OF FINANCIAL AND QUANTITATIVE ANALYSIS AND FINANCIAL MANAGEMENT. Professor Houston also currently serves as an Associate Editor for the JOURNAL OF MONEY, CREDIT AND BANKING, the JOURNAL OF FINANCIAL SERVICES RESEARCH and the JOURNAL OF FINANCIAL ECONOMIC POLICY. Since arriving at the University of Florida in 1987, Joel has received 19 teaching awards and has been actively involved in both undergraduate and graduate education. In addition to co-authoring leading textbooks in financial management, Dr. Houston has participated in management education programs for the PURC/World Bank Program, Southern Company, Exelon Corporation and Volume Services America. Joel enjoys playing golf and tennis and spending time with his wife (Sherry) and two children (Chris and Meredith). He is an avid sports fan who follows the Florida Gators and the Pittsburgh Steelers, Pirates and Penguins.     1\n",
      "                        Fundamentals of Ecology                                                                                                                                                                                                                                                                                                                                                                                                                                                                                                                                                                                                                                                                                                                                                                                                                                                                                                                                                                                                                                                                                                                                                                                                                                                                                                                                                                                                                                                                                                                                                                                                                                                                                                                                                                                                                                                                                                                                                                                                                                                                                                                                                                                                                                                                                                                                                                                                                                                                                                                                                                                                                                                                                                                                                                                                                                                                                                                                                                                                                                                                                                                                  1\n",
      "Household               zhart Vernier Caliper Digital 150 mm/6-Inches LCD Display This professional grade digital caliper is a hi-tech precision instrument which is made out of surgical grade stainless steel.It can be used to measure internal and external distances with extreme accurately.Using the digital calipers is easy, measurements are clearly displayed and can be switched between metric or imperial with a simple push of a button.Features:Material is stainless steel & plastic with LCD display which is powered by 1 x LR44 battery (included).Zero setting at any position.Provides clear readings.Readings can be displayed in either inch or millimeter format.With locking screw for accuracy.Measuring Range: 0-150 mm.Great gift.Comes with english instruction manual.Accuracy: + 0.02 mm or 0.001 inch (lt;100 mm), + 0.03 mm or 0.001 inch (gt;100 - 150 mm).Resolution: 0.01mm or 0.0005 inch.Repeatability: 0.01mm or 0.0005 inch.Package Includes: 1 x digital caliper, 1 x 1.5V battery, 1 x user manual.                                                                                                                                                                                                                                                                                                                                                                                                                                                                                                                                                                                                                                                                                                                                                                                                                                                                                                                                                                                                                                                                                                                                                                                                                                                                                                                                                                                                                                                                                                                                                                                                                                                                                                                                                                                                                                                                                                                                                                                                                                                                                                                                   1\n",
      "Name: count, Length: 13979, dtype: int64\n",
      "======================\n",
      "categories\n",
      "Household                 19313\n",
      "Books                     11820\n",
      "Electronics               10621\n",
      "Clothing & Accessories     8670\n",
      "Name: count, dtype: int64\n"
     ]
    }
   ],
   "source": [
    "print(df[df.duplicated()].value_counts())\n",
    "print('======================')\n",
    "print(df['categories'].value_counts())"
   ]
  },
  {
   "cell_type": "markdown",
   "metadata": {},
   "source": [
    "## Text Preprocessing"
   ]
  },
  {
   "cell_type": "code",
   "execution_count": 10,
   "metadata": {},
   "outputs": [],
   "source": [
    "from bs4 import BeautifulSoup\n",
    "from nltk.corpus import stopwords\n",
    "\n",
    "# import nltk\n",
    "#nltk.download('stopwords') IF YOU NOT HAVE YET\n",
    "\n",
    "def remove_unwanted_string(text):\n",
    "    stop_words = set(stopwords.words(\"english\"))\n",
    "    text_clean=[]\n",
    "\n",
    "    for text_inputs in text:\n",
    "\n",
    "        #Remove html tag \n",
    "        text_inputs = BeautifulSoup(text_inputs, 'html.parser').get_text()\n",
    "\n",
    "        #Remove certain symbol that concern me\n",
    "        text_inputs=re.sub('<.*?>',\" \",text_inputs)\n",
    "\n",
    "        #Remove all thing besides letter and numbers\n",
    "        text_inputs=re.sub(\"[^a-zA-Z0-9]\",\" \",text_inputs).lower()\n",
    "\n",
    "        #remove stop word eg. [is a was]\n",
    "        words = text_inputs.split()\n",
    "        words = [word for word in words if word not in stop_words]\n",
    "        clean_data = \" \".join(words) # Join the words back into a sentence\n",
    "\n",
    "        # Remove extra whitespaces\n",
    "        clean_data = re.sub(r\"\\s+\", \" \", clean_data).strip()\n",
    "\n",
    "        text_clean.append(clean_data)\n",
    "    return text_clean"
   ]
  },
  {
   "cell_type": "code",
   "execution_count": 11,
   "metadata": {},
   "outputs": [
    {
     "name": "stderr",
     "output_type": "stream",
     "text": [
      "C:\\Users\\VP\\AppData\\Local\\Temp\\ipykernel_22636\\771335289.py:14: MarkupResemblesLocatorWarning: The input looks more like a filename than markup. You may want to open this file and pass the filehandle into Beautiful Soup.\n",
      "  text_inputs = BeautifulSoup(text_inputs, 'html.parser').get_text()\n"
     ]
    }
   ],
   "source": [
    "df['text']=remove_unwanted_string(df['text'])"
   ]
  },
  {
   "cell_type": "markdown",
   "metadata": {},
   "source": [
    "## DATA PREPROCESS"
   ]
  },
  {
   "cell_type": "code",
   "execution_count": 12,
   "metadata": {},
   "outputs": [],
   "source": [
    "features=df['text'].values\n",
    "labels=df['categories'].values"
   ]
  },
  {
   "cell_type": "markdown",
   "metadata": {},
   "source": [
    "### Label encoding"
   ]
  },
  {
   "cell_type": "code",
   "execution_count": 13,
   "metadata": {},
   "outputs": [],
   "source": [
    "from sklearn.preprocessing import LabelEncoder,OneHotEncoder\n",
    "\n",
    "#Convert categorical data to int - label encoding   it like get_dummies and one hot encoding\n",
    "\n",
    "label_encoder=LabelEncoder()\n",
    "label_encoded=label_encoder.fit_transform(labels)"
   ]
  },
  {
   "cell_type": "markdown",
   "metadata": {},
   "source": [
    "### Data spliting"
   ]
  },
  {
   "cell_type": "code",
   "execution_count": 14,
   "metadata": {},
   "outputs": [],
   "source": [
    "from sklearn.model_selection import train_test_split\n",
    "\n",
    "X_train,X_test,y_train,y_test=train_test_split(features,label_encoded,test_size=.2,random_state=42)\n"
   ]
  },
  {
   "cell_type": "markdown",
   "metadata": {},
   "source": [
    "### Tokenization"
   ]
  },
  {
   "cell_type": "code",
   "execution_count": 15,
   "metadata": {},
   "outputs": [],
   "source": [
    "\"\"\"Define hyperparameter for nlp\"\"\"\n",
    "\n",
    "#Tokenizer\n",
    "vocab_size= 5000   \n",
    "oov_token='<OOV>'\n",
    "\n",
    "#padding\n",
    "max_length=500\n",
    "\n",
    "#Embeding layer dimension\n",
    "embedding_dim=64"
   ]
  },
  {
   "cell_type": "code",
   "execution_count": 16,
   "metadata": {},
   "outputs": [],
   "source": [
    "#Define Tokenizer\n",
    "tokenizer=tf.keras.preprocessing.text.Tokenizer(\n",
    "    num_words=vocab_size,\n",
    "    split=\" \",\n",
    "    oov_token=oov_token\n",
    ")\n",
    "\n",
    "tokenizer.fit_on_texts(X_train)"
   ]
  },
  {
   "cell_type": "code",
   "execution_count": 17,
   "metadata": {},
   "outputs": [],
   "source": [
    "#Tranform text into token\n",
    "X_train_token=tokenizer.texts_to_sequences(X_train)\n",
    "X_test_token=tokenizer.texts_to_sequences(X_test)"
   ]
  },
  {
   "cell_type": "markdown",
   "metadata": {},
   "source": [
    "### Padding sequence"
   ]
  },
  {
   "cell_type": "code",
   "execution_count": 18,
   "metadata": {},
   "outputs": [],
   "source": [
    "X_train_padded = tf.keras.utils.pad_sequences(\n",
    "    X_train_token,\n",
    "    maxlen=max_length,\n",
    "    padding='post',\n",
    "    truncating='post'\n",
    ")\n",
    "\n",
    "\n",
    "X_test_padded = tf.keras.utils.pad_sequences(\n",
    "    X_test_token,\n",
    "    maxlen=max_length,\n",
    "    padding='post',\n",
    "    truncating='post'\n",
    ")"
   ]
  },
  {
   "cell_type": "markdown",
   "metadata": {},
   "source": [
    "## Model Developement"
   ]
  },
  {
   "cell_type": "code",
   "execution_count": 19,
   "metadata": {},
   "outputs": [],
   "source": [
    "#building layer\n",
    "from keras.layers import Embedding,Bidirectional,LSTM,Dense,Dropout\n",
    "model=tf.keras.Sequential([\n",
    "    Embedding(vocab_size,embedding_dim),             \n",
    "    #idirectional(LSTM(64, return_sequences=True)),\n",
    "    Bidirectional(LSTM(64)),\n",
    "    Dense(32,activation='relu'),\n",
    "    Dense(4,activation='softmax')\n",
    "])"
   ]
  },
  {
   "cell_type": "code",
   "execution_count": 20,
   "metadata": {},
   "outputs": [],
   "source": [
    "model.compile(optimizer='adam',loss='sparse_categorical_crossentropy',metrics=['accuracy']) #model compile"
   ]
  },
  {
   "cell_type": "code",
   "execution_count": 21,
   "metadata": {},
   "outputs": [
    {
     "data": {
      "image/png": "[encoded data removed]",
      "text/plain": [
       "<IPython.core.display.Image object>"
      ]
     },
     "execution_count": 21,
     "metadata": {},
     "output_type": "execute_result"
    }
   ],
   "source": [
    "tf.keras.utils.plot_model(model, show_shapes=True) #model architecture"
   ]
  },
  {
   "cell_type": "markdown",
   "metadata": {},
   "source": [
    "## Model training"
   ]
  },
  {
   "cell_type": "code",
   "execution_count": 22,
   "metadata": {},
   "outputs": [
    {
     "name": "stdout",
     "output_type": "stream",
     "text": [
      "Epoch 1/10\n",
      "1261/1261 [==============================] - 256s 199ms/step - loss: 0.2207 - accuracy: 0.9292 - val_loss: 0.1190 - val_accuracy: 0.9685\n",
      "Epoch 2/10\n",
      "1261/1261 [==============================] - 231s 183ms/step - loss: 0.0811 - accuracy: 0.9782 - val_loss: 0.1083 - val_accuracy: 0.9702\n",
      "Epoch 3/10\n",
      "1261/1261 [==============================] - 250s 198ms/step - loss: 0.0569 - accuracy: 0.9842 - val_loss: 0.1148 - val_accuracy: 0.9697\n",
      "Epoch 4/10\n",
      "1261/1261 [==============================] - 266s 211ms/step - loss: 0.0421 - accuracy: 0.9880 - val_loss: 0.1053 - val_accuracy: 0.9745\n",
      "Epoch 5/10\n",
      "1261/1261 [==============================] - 251s 199ms/step - loss: 0.0327 - accuracy: 0.9908 - val_loss: 0.1145 - val_accuracy: 0.9747\n",
      "Epoch 6/10\n",
      "1261/1261 [==============================] - 259s 206ms/step - loss: 0.0256 - accuracy: 0.9928 - val_loss: 0.1272 - val_accuracy: 0.9732\n"
     ]
    }
   ],
   "source": [
    "from keras.callbacks import EarlyStopping,TensorBoard\n",
    "\n",
    "max_epoch=10\n",
    "early_stopping=EarlyStopping(patience=2)\n",
    "\n",
    "PATH=os.getcwd()\n",
    "logpath=os.path.join(PATH,'tensorboard_log',datetime.datetime.now().strftime(\"%Y%m%d-%H%M%S\"))\n",
    "tb=TensorBoard(logpath)\n",
    "\n",
    "history=model.fit(\n",
    "    X_train_padded,y_train,\n",
    "    validation_data=(X_test_padded,y_test),\n",
    "    epochs=max_epoch,\n",
    "    callbacks=[early_stopping,tb]\n",
    ")"
   ]
  },
  {
   "cell_type": "markdown",
   "metadata": {},
   "source": [
    "### Model Evaluation"
   ]
  },
  {
   "cell_type": "code",
   "execution_count": 23,
   "metadata": {},
   "outputs": [
    {
     "name": "stdout",
     "output_type": "stream",
     "text": [
      "316/316 [==============================] - 17s 50ms/step\n",
      "              precision    recall  f1-score   support\n",
      "\n",
      "           0       0.98      0.97      0.97      2378\n",
      "           1       0.99      0.97      0.98      1750\n",
      "           2       0.97      0.97      0.97      2082\n",
      "           3       0.97      0.98      0.97      3875\n",
      "\n",
      "    accuracy                           0.97     10085\n",
      "   macro avg       0.97      0.97      0.97     10085\n",
      "weighted avg       0.97      0.97      0.97     10085\n",
      "\n"
     ]
    }
   ],
   "source": [
    "from sklearn.metrics import classification_report\n",
    "\n",
    "prediction=model.predict(X_test_padded)\n",
    "prediction_index=np.argmax(prediction, axis=1)\n",
    "\n",
    "report = classification_report(y_test,prediction_index)\n",
    "\n",
    "print(report)\n"
   ]
  },
  {
   "cell_type": "markdown",
   "metadata": {},
   "source": [
    "### Model PERFORMANCE"
   ]
  },
  {
   "cell_type": "code",
   "execution_count": 24,
   "metadata": {},
   "outputs": [
    {
     "data": {
      "image/png": "[encoded data removed]",
      "text/plain": [
       "<Figure size 640x480 with 1 Axes>"
      ]
     },
     "metadata": {},
     "output_type": "display_data"
    }
   ],
   "source": [
    "#loss graph\n",
    "plt.figure()\n",
    "plt.plot(history.history['loss'])\n",
    "plt.plot(history.history['val_loss'])\n",
    "plt.legend(['Training Loss','Validation Loss'])\n",
    "plt.show()"
   ]
  },
  {
   "cell_type": "code",
   "execution_count": 25,
   "metadata": {},
   "outputs": [
    {
     "data": {
      "image/png": "[encoded data removed]",
      "text/plain": [
       "<Figure size 640x480 with 1 Axes>"
      ]
     },
     "metadata": {},
     "output_type": "display_data"
    }
   ],
   "source": [
    "#accuracy graph\n",
    "plt.figure()\n",
    "plt.plot(history.history['accuracy'])\n",
    "plt.plot(history.history['val_accuracy'])\n",
    "plt.legend(['Training Accuracy','Validation Accuracy'])\n",
    "plt.show()"
   ]
  },
  {
   "cell_type": "markdown",
   "metadata": {},
   "source": [
    "### Save Model (TOKENIZER and model)"
   ]
  },
  {
   "cell_type": "code",
   "execution_count": 26,
   "metadata": {},
   "outputs": [],
   "source": [
    "save_dir = 'saved_models'\n",
    "os.makedirs(save_dir, exist_ok=True)"
   ]
  },
  {
   "cell_type": "code",
   "execution_count": 27,
   "metadata": {},
   "outputs": [],
   "source": [
    "# Save the model in .h5 format\n",
    "model.save(os.path.join(save_dir, 'model.h5'))"
   ]
  },
  {
   "cell_type": "markdown",
   "metadata": {},
   "source": []
  },
  {
   "cell_type": "code",
   "execution_count": 28,
   "metadata": {},
   "outputs": [],
   "source": [
    "import json\n",
    "\n",
    "tokenizer_json = tokenizer.to_json()\n",
    "with open(os.path.join(save_dir, 'tokenizer.json'), 'w', encoding='utf-8') as json_file:\n",
    "    json.dump(tokenizer_json, json_file, ensure_ascii=False)"
   ]
  }
 ],
 "metadata": {
  "kernelspec": {
   "display_name": "tfpf",
   "language": "python",
   "name": "python3"
  },
  "language_info": {
   "codemirror_mode": {
    "name": "ipython",
    "version": 3
   },
   "file_extension": ".py",
   "mimetype": "text/x-python",
   "name": "python",
   "nbconvert_exporter": "python",
   "pygments_lexer": "ipython3",
   "version": "3.10.13"
  }
 },
 "nbformat": 4,
 "nbformat_minor": 2
}
